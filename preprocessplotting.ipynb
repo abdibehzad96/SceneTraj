{
 "cells": [
  {
   "cell_type": "code",
   "execution_count": 1,
   "metadata": {},
   "outputs": [],
   "source": [
    "#load csv file\n",
    "import pandas as pd\n",
    "import os\n",
    "import matplotlib.pyplot as plt\n",
    "import math\n",
    "import numpy as np\n",
    "from itertools import count\n",
    "import random\n",
    "from matplotlib.animation import FuncAnimation\n",
    "from scipy.signal import butter, lfilter"
   ]
  },
  {
   "cell_type": "code",
   "execution_count": 74,
   "metadata": {},
   "outputs": [],
   "source": [
    "#load csv file from Processed folder\n",
    "df = []\n",
    "const = 16 # 4 if redflag, 16 if Trj\n",
    "bias = 0 # 1 if redflag, 0 if Trj\n",
    "csvpath = os.path.join(os.getcwd(), 'Processed','Trj20240506T2121.csv')\n",
    "with open(csvpath, 'r',newline='') as file:\n",
    "    for line in file:\n",
    "        row = line.strip().split(',')\n",
    "        rowf = [float(element) for element in row]\n",
    "        rowf = [0 if math.isnan(x) else x for x in rowf]\n",
    "        df.append(rowf)\n"
   ]
  },
  {
   "cell_type": "code",
   "execution_count": 28,
   "metadata": {},
   "outputs": [],
   "source": [
    "from shapely.geometry import Point, Polygon\n",
    "def zonefinder(BBx,BBy, Zones):\n",
    "    for i, zone in enumerate(Zones):\n",
    "        Poly = Polygon(zone)\n",
    "        if Poly.contains(Point(BBx, BBy)):\n",
    "            return i\n",
    "    return 100"
   ]
  },
  {
   "cell_type": "code",
   "execution_count": 1,
   "metadata": {},
   "outputs": [
    {
     "data": {
      "text/plain": [
       "tensor([6, 7, 8, 9])"
      ]
     },
     "execution_count": 1,
     "metadata": {},
     "output_type": "execute_result"
    }
   ],
   "source": [
    "import torch\n",
    "a = torch.tensor([1,2,3,4,5,6,7,8,9,10])\n",
    "\n",
    "a[5:-1]"
   ]
  },
  {
   "cell_type": "code",
   "execution_count": 29,
   "metadata": {},
   "outputs": [],
   "source": [
    "import yaml\n",
    "import re\n",
    "ZoneConf = []\n",
    "with open('utilz/ZoneConf.yaml') as file:\n",
    "    ZonesYML = yaml.load(file, Loader=yaml.FullLoader)\n",
    "    #convert the string values to float\n",
    "    for _, v in ZonesYML.items():\n",
    "        lst = []\n",
    "        for _, p  in v.items():    \n",
    "            for x in p[0]:\n",
    "                b = re.split(r'[,()]',p[0][x])\n",
    "                lst.append((float(b[1]), float(b[2])))\n",
    "        ZoneConf.append(lst)\n"
   ]
  },
  {
   "cell_type": "code",
   "execution_count": 58,
   "metadata": {},
   "outputs": [],
   "source": [
    "def Move(zn):\n",
    "    movement = np.zeros((5,1))\n",
    "    i = 0\n",
    "    for n, inx in enumerate(zn[1:]):\n",
    "        if inx != zn[n]:\n",
    "            movement[inx] = 1\n",
    "            movement[zn[n]] = 1\n",
    "            i += 1\n",
    "            print(\"moved\")\n",
    "    return i"
   ]
  },
  {
   "cell_type": "code",
   "execution_count": 59,
   "metadata": {},
   "outputs": [],
   "source": [
    "ZoneConf = []\n",
    "with open('utilz/ZoneConf.yaml') as file:\n",
    "    ZonesYML = yaml.load(file, Loader=yaml.FullLoader)\n",
    "    #convert the string values to float\n",
    "    for _, v in ZonesYML.items():\n",
    "        lst = []\n",
    "        for _, p  in v.items():    \n",
    "            for x in p[0]:\n",
    "                b = re.split(r'[,()]',p[0][x])\n",
    "                lst.append((float(b[1]), float(b[2])))\n",
    "        ZoneConf.append(lst)"
   ]
  },
  {
   "cell_type": "code",
   "execution_count": 60,
   "metadata": {},
   "outputs": [
    {
     "name": "stdout",
     "output_type": "stream",
     "text": [
      "0\n",
      "1\n",
      "2\n",
      "3\n",
      "4\n"
     ]
    }
   ],
   "source": [
    "for i, zone in enumerate(ZoneConf):\n",
    "    print(i)"
   ]
  },
  {
   "cell_type": "code",
   "execution_count": 79,
   "metadata": {},
   "outputs": [
    {
     "name": "stdout",
     "output_type": "stream",
     "text": [
      "[3 3 3 3 3 3 3 3 3 3 3 3 3 3 3 3 3 3 3 3 3 3 3 3 3 3 3 3 3 3 3 3 3 3 3 3 3\n",
      " 3 3 3 3 3 3 3 3 0 0 0 0 0 0 0 0 0 0 0 0 0 0 0 0 0 0 0 1 1 1 1 1 1 1 1 1 1\n",
      " 1 1 1 1 1 1 1 1 1 1 1]\n",
      "moved\n",
      "moved\n",
      "2\n"
     ]
    }
   ],
   "source": [
    "zn = []\n",
    "n = const*23 + bias\n",
    "for i in range(len(df[n])):\n",
    "    zn.append(zonefinder(df[n][i],df[n+1][i], ZoneConf))\n",
    "print(np.array(zn))\n",
    "print(Move(np.array(zn)))"
   ]
  },
  {
   "cell_type": "code",
   "execution_count": 80,
   "metadata": {},
   "outputs": [],
   "source": [
    "#%matplotlib notebook\n",
    "%matplotlib widget\n",
    "\n",
    "def anima(points, mx, my):\n",
    "    fig, ax = plt.subplots(1,1)\n",
    "    sc = ax.scatter([],[], label='Points')\n",
    "\n",
    "\n",
    "    def init():\n",
    "        ax.set_xlim(0, mx+5)\n",
    "        ax.set_ylim(0, my+5)\n",
    "        return sc,\n",
    "\n",
    "    def animate(i):\n",
    "        # Get the point from the points list at index i\n",
    "        # Plot that point using the x and y coordinates\n",
    "        point = points[i]\n",
    "        sc.set_offsets(point)\n",
    "        #sc.scatter(px[:i], py[:i])\n",
    "        return sc,\n",
    "    ani = FuncAnimation(fig, func=animate, frames=len(points), init_func=init, interval=10, repeat=False)\n",
    "    return ani"
   ]
  },
  {
   "cell_type": "code",
   "execution_count": 81,
   "metadata": {},
   "outputs": [],
   "source": [
    "\n",
    "def filter(px, py,cutoff_frequency, order):\n",
    "\n",
    "    # Design the Butterworth filter\n",
    "    #b, a = butter(order, cutoff_frequency, btype='low', analog=False)\n",
    "    b = np.ones(order)/order\n",
    "    a = 1\n",
    "    # Apply the filter to the signal\n",
    "    x = lfilter(b, a, px)\n",
    "    y = lfilter(b, a, py)\n",
    "    x[:order] = px[:order] \n",
    "    y[:order] = py[:order]\n",
    "    #fy = lfilter(b, a, py)\n",
    "    return x , y"
   ]
  },
  {
   "cell_type": "code",
   "execution_count": null,
   "metadata": {},
   "outputs": [],
   "source": [
    "for i in range(len(df)//const):\n",
    "    plt.plot(df[i*const+bias], df[i*const + bias +1], 'o-')\n",
    "    plt.title(f'Red Flag Trajectory ID{df[i*3][0]}')\n",
    "    plt.pause(0.5)"
   ]
  },
  {
   "cell_type": "code",
   "execution_count": 82,
   "metadata": {},
   "outputs": [
    {
     "data": {
      "application/vnd.jupyter.widget-view+json": {
       "model_id": "5257e674a5aa4564a672e1ad6b596437",
       "version_major": 2,
       "version_minor": 0
      },
      "image/png": "[encoded data removed]",
      "text/html": [
       "\n",
       "            <div style=\"display: inline-block;\">\n",
       "                <div class=\"jupyter-widgets widget-label\" style=\"text-align: center;\">\n",
       "                    Figure\n",
       "                </div>\n",
       "                <img src='data:image/png;base64,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' width=640.0/>\n",
       "            </div>\n",
       "        "
      ],
      "text/plain": [
       "Canvas(toolbar=Toolbar(toolitems=[('Home', 'Reset original view', 'home', 'home'), ('Back', 'Back to previous …"
      ]
     },
     "metadata": {},
     "output_type": "display_data"
    }
   ],
   "source": [
    "px = []\n",
    "py = []\n",
    "points = []\n",
    "n=  0\n",
    "for i in range (len(df[n*const+bias])):\n",
    "    px.append(df[n*const + bias][i])\n",
    "    py.append(df[n*const + bias+1][i])\n",
    "    points.append([df[n*const + bias][i],df[n*const + bias+1][i]])\n",
    "\n",
    "ani= anima(points, max(px), max(py))\n",
    "plt.tight_layout()\n",
    "plt.show(ani)\n",
    "\n"
   ]
  },
  {
   "cell_type": "code",
   "execution_count": 83,
   "metadata": {},
   "outputs": [],
   "source": [
    "#%matplotlib notebook\n",
    "%matplotlib widget\n",
    "\n",
    "def dfanime(df):\n",
    "    fig, ax = plt.subplots(1,1)\n",
    "    sc = ax.scatter([],[], label='Points')\n",
    "    ax.set_xlim(0, 1024)\n",
    "    ax.set_ylim(0, 1024)\n",
    "\n",
    "    def animate(i):\n",
    "        # Get the point from the points list at index i\n",
    "        # Plot that point using the x and y coordinates\n",
    "        point = [(df[i*const + bias][j], df[i*const + bias+1][j]) for j in range(len(df[i*const + bias]))]\n",
    "        sc.set_offsets(point)\n",
    "\n",
    "        #sc.scatter(px[:i], py[:i])\n",
    "        return sc,\n",
    "    ani = FuncAnimation(fig, func=animate, frames=len(df)//const, interval=500, repeat=False)\n",
    "    return ani"
   ]
  },
  {
   "cell_type": "code",
   "execution_count": null,
   "metadata": {},
   "outputs": [],
   "source": [
    "ani= dfanime(df)\n",
    "plt.tight_layout()\n",
    "plt.show(ani)"
   ]
  }
 ],
 "metadata": {
  "kernelspec": {
   "display_name": "tp",
   "language": "python",
   "name": "python3"
  },
  "language_info": {
   "codemirror_mode": {
    "name": "ipython",
    "version": 3
   },
   "file_extension": ".py",
   "mimetype": "text/x-python",
   "name": "python",
   "nbconvert_exporter": "python",
   "pygments_lexer": "ipython3",
   "version": "3.12.3"
  }
 },
 "nbformat": 4,
 "nbformat_minor": 2
}
